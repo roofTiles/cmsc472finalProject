{
  "nbformat": 4,
  "nbformat_minor": 0,
  "metadata": {
    "colab": {
      "provenance": []
    },
    "kernelspec": {
      "name": "python3",
      "display_name": "Python 3"
    },
    "language_info": {
      "name": "python"
    }
  },
  "cells": [
    {
      "cell_type": "markdown",
      "source": [
        "I don't really know how to share notebooks on github but here's something"
      ],
      "metadata": {
        "id": "8N_ncwAjUj5V"
      }
    },
    {
      "cell_type": "code",
      "execution_count": null,
      "metadata": {
        "id": "wcqlAs9eUjRI"
      },
      "outputs": [],
      "source": [
        "import numpy as np\n",
        "import pytorch as torch"
      ]
    }
  ]
}