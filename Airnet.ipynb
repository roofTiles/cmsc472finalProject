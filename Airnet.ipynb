{
  "nbformat": 4,
  "nbformat_minor": 0,
  "metadata": {
    "colab": {
      "provenance": [],
      "gpuType": "T4"
    },
    "kernelspec": {
      "name": "python3",
      "display_name": "Python 3"
    },
    "language_info": {
      "name": "python"
    },
    "accelerator": "GPU"
  },
  "cells": [
    {
      "cell_type": "markdown",
      "source": [
        "### Downloading Images"
      ],
      "metadata": {
        "id": "CHKj-SFgt_GA"
      }
    },
    {
      "cell_type": "code",
      "source": [
        "!conda env create -f airnet.yaml"
      ],
      "metadata": {
        "id": "JDERYx5t5Wey"
      },
      "execution_count": null,
      "outputs": []
    },
    {
      "cell_type": "code",
      "source": [
        "!mkdir -p dataset/images\n",
        "!wget https://vizwiz.cs.colorado.edu/VizWiz_final/images/train.zip \\\n",
        "      https://vizwiz.cs.colorado.edu/VizWiz_final/images/val.zip \\\n",
        "      https://vizwiz.cs.colorado.edu/VizWiz_final/images/test.zip"
      ],
      "metadata": {
        "colab": {
          "base_uri": "https://localhost:8080/"
        },
        "id": "DLVa4gklt-xJ",
        "outputId": "c2c332bc-64a9-4bac-b182-58dafa7ed499"
      },
      "execution_count": 9,
      "outputs": [
        {
          "output_type": "stream",
          "name": "stdout",
          "text": [
            "--2024-04-18 06:01:26--  https://vizwiz.cs.colorado.edu/VizWiz_final/images/train.zip\n",
            "Resolving vizwiz.cs.colorado.edu (vizwiz.cs.colorado.edu)... 198.59.7.50\n",
            "Connecting to vizwiz.cs.colorado.edu (vizwiz.cs.colorado.edu)|198.59.7.50|:443... connected.\n",
            "HTTP request sent, awaiting response... 200 OK\n",
            "Length: 11298421598 (11G) [application/zip]\n",
            "Saving to: ‘train.zip’\n",
            "\n",
            "train.zip           100%[===================>]  10.52G  22.9MB/s    in 7m 54s  \n",
            "\n",
            "2024-04-18 06:09:20 (22.7 MB/s) - ‘train.zip’ saved [11298421598/11298421598]\n",
            "\n",
            "--2024-04-18 06:09:20--  https://vizwiz.cs.colorado.edu/VizWiz_final/images/val.zip\n",
            "Reusing existing connection to vizwiz.cs.colorado.edu:443.\n",
            "HTTP request sent, awaiting response... 200 OK\n",
            "Length: 3488913457 (3.2G) [application/zip]\n",
            "Saving to: ‘val.zip’\n",
            "\n",
            "val.zip             100%[===================>]   3.25G  22.5MB/s    in 2m 26s  \n",
            "\n",
            "2024-04-18 06:11:46 (22.7 MB/s) - ‘val.zip’ saved [3488913457/3488913457]\n",
            "\n",
            "--2024-04-18 06:11:46--  https://vizwiz.cs.colorado.edu/VizWiz_final/images/test.zip\n",
            "Reusing existing connection to vizwiz.cs.colorado.edu:443.\n",
            "HTTP request sent, awaiting response... 200 OK\n",
            "Length: 3975272799 (3.7G) [application/zip]\n",
            "Saving to: ‘test.zip’\n",
            "\n",
            "test.zip            100%[===================>]   3.70G  22.9MB/s    in 2m 46s  \n",
            "\n",
            "2024-04-18 06:14:33 (22.8 MB/s) - ‘test.zip’ saved [3975272799/3975272799]\n",
            "\n",
            "FINISHED --2024-04-18 06:14:33--\n",
            "Total wall clock time: 13m 7s\n",
            "Downloaded: 3 files, 17G in 13m 6s (22.8 MB/s)\n"
          ]
        }
      ]
    },
    {
      "cell_type": "code",
      "source": [
        "!unzip -q -o train.zip -d dataset/images\n",
        "!unzip -q -o val.zip -d dataset/images\n",
        "!unzip -q -o test.zip -d dataset/images"
      ],
      "metadata": {
        "id": "_ukynHZauD6W"
      },
      "execution_count": 10,
      "outputs": []
    },
    {
      "cell_type": "code",
      "source": [
        "!rm train.zip val.zip test.zip"
      ],
      "metadata": {
        "id": "kv1QU7k6uEzr"
      },
      "execution_count": 11,
      "outputs": []
    },
    {
      "cell_type": "markdown",
      "source": [],
      "metadata": {
        "id": "8Jder4O35N5z"
      }
    },
    {
      "cell_type": "markdown",
      "source": [
        "### Airnet"
      ],
      "metadata": {
        "id": "p7JMdIMduFie"
      }
    },
    {
      "cell_type": "code",
      "source": [
        "!git clone https://github.com/XLearning-SCU/2022-CVPR-AirNet"
      ],
      "metadata": {
        "colab": {
          "base_uri": "https://localhost:8080/"
        },
        "id": "EFVBRLB8wqzV",
        "outputId": "b04f8909-4765-426c-d9f5-b581e5f72bfd"
      },
      "execution_count": 14,
      "outputs": [
        {
          "output_type": "stream",
          "name": "stdout",
          "text": [
            "Cloning into '2022-CVPR-AirNet'...\n",
            "remote: Enumerating objects: 124, done.\u001b[K\n",
            "remote: Counting objects: 100% (12/12), done.\u001b[K\n",
            "remote: Compressing objects: 100% (9/9), done.\u001b[K\n",
            "remote: Total 124 (delta 4), reused 3 (delta 3), pack-reused 112\u001b[K\n",
            "Receiving objects: 100% (124/124), 36.54 MiB | 28.96 MiB/s, done.\n",
            "Resolving deltas: 100% (24/24), done.\n"
          ]
        }
      ]
    },
    {
      "cell_type": "code",
      "source": [
        "# Hopefully you won't need any extra imports but if you do it shouldn't be too hard I hope\n",
        "test_transform = transforms.Compose([\n",
        "    transforms.Resize(256),\n",
        "    transforms.CenterCrop(224),\n",
        "    transforms.ToTensor(),\n",
        "    transforms.Normalize(mean=[0.485, 0.456, 0.406],\n",
        "                          std=[0.229, 0.224, 0.225])\n",
        "    ])"
      ],
      "metadata": {
        "id": "cvVIQwP7xA9I"
      },
      "execution_count": 12,
      "outputs": []
    },
    {
      "cell_type": "code",
      "source": [
        "####################################\n",
        "# I HAVE NO IDEA IF THIS WORKS     #\n",
        "# THIS IS SOME RANDOM CHATGPT CODE #\n",
        "####################################\n",
        "!mkdir airnet\n",
        "!mkdir transformed_images\n",
        "\n",
        "# Praise ChatGPT\n",
        "input_dir = 'dataset/images/'\n",
        "output_dir = ''\n",
        "\n",
        "shutil.rmtree(output_dir, ignore_errors=True)\n",
        "shutil.copytree(input_dir, output_dir)\n",
        "\n",
        "for root, dirs, files in os.walk(output_dir):\n",
        "    for file in files:\n",
        "        if file.endswith(('.jpg', '.jpeg', '.png', '.gif')):\n",
        "            # Open the image\n",
        "            img = Image.open(os.path.join(root, file))\n",
        "\n",
        "            # Apply the transformation pipeline\n",
        "            transformed_img = test_transform(img)\n",
        "\n",
        "            # Save the transformed image, preserving the folder structure\n",
        "            output_subdir = root.replace(output_dir, input_dir)\n",
        "            os.makedirs(output_subdir, exist_ok=True)\n",
        "            transformed_img.save(os.path.join(output_subdir, file))"
      ],
      "metadata": {
        "id": "uzZdgaDYzMpY"
      },
      "execution_count": null,
      "outputs": []
    },
    {
      "cell_type": "code",
      "source": [
        "!python 2022-CVPR-AirNet/demo.py --test_path='./dataset/images' --output_path='./airnet' --mode 3"
      ],
      "metadata": {
        "colab": {
          "base_uri": "https://localhost:8080/"
        },
        "id": "2zDXVK0_t4j3",
        "outputId": "3265e163-822b-4519-b0b6-8f73e93fb8f5"
      },
      "execution_count": 23,
      "outputs": [
        {
          "output_type": "stream",
          "name": "stdout",
          "text": [
            "Traceback (most recent call last):\n",
            "  File \"2022-CVPR-AirNet/demo.py\", line 4, in <module>\n",
            "    import numpy as np\n",
            "ModuleNotFoundError: No module named 'numpy'\n"
          ]
        }
      ]
    }
  ]
}